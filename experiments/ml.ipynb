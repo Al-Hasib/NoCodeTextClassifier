{
 "cells": [
  {
   "cell_type": "markdown",
   "metadata": {},
   "source": [
    "### Experiments with ML models for Training & Evaluation"
   ]
  },
  {
   "cell_type": "markdown",
   "metadata": {},
   "source": [
    "Install the require libraries"
   ]
  },
  {
   "cell_type": "code",
   "execution_count": 1,
   "metadata": {},
   "outputs": [],
   "source": [
    "import pandas as pd\n",
    "from pathlib import Path\n",
    "import matplotlib.pyplot as plt\n",
    "import seaborn as sns\n",
    "from sklearn.feature_extraction.text import TfidfVectorizer\n",
    "from sklearn.model_selection import train_test_split\n",
    "from sklearn.feature_extraction.text import CountVectorizer\n",
    "from sklearn.naive_bayes import MultinomialNB\n",
    "from sklearn.linear_model import LogisticRegression\n",
    "from sklearn.ensemble import RandomForestClassifier\n",
    "from sklearn.svm import LinearSVC\n",
    "from sklearn.model_selection import cross_val_score\n",
    "from sklearn.metrics import confusion_matrix\n",
    "from sklearn import metrics\n",
    "import re\n",
    "from nltk.corpus import stopwords\n",
    "from nltk.stem import WordNetLemmatizer\n",
    "from sklearn.preprocessing import LabelEncoder\n",
    "import string\n",
    "from sklearn.model_selection import train_test_split"
   ]
  },
  {
   "cell_type": "markdown",
   "metadata": {},
   "source": [
    "Data Loading"
   ]
  },
  {
   "cell_type": "code",
   "execution_count": 2,
   "metadata": {},
   "outputs": [],
   "source": [
    "train_path = Path(\"../ML Engineer/train.csv\")\n",
    "test_path = Path(\"../ML Engineer/test.csv\")\n",
    "submission_path = Path(\"../ML Engineer/sample_submission.csv\")"
   ]
  },
  {
   "cell_type": "code",
   "execution_count": 3,
   "metadata": {},
   "outputs": [],
   "source": [
    "train_data = pd.read_csv(train_path)\n",
    "test_data = pd.read_csv(test_path)\n",
    "submission_data = pd.read_csv(submission_path)"
   ]
  },
  {
   "cell_type": "code",
   "execution_count": 4,
   "metadata": {},
   "outputs": [
    {
     "data": {
      "text/html": [
       "<div>\n",
       "<style scoped>\n",
       "    .dataframe tbody tr th:only-of-type {\n",
       "        vertical-align: middle;\n",
       "    }\n",
       "\n",
       "    .dataframe tbody tr th {\n",
       "        vertical-align: top;\n",
       "    }\n",
       "\n",
       "    .dataframe thead th {\n",
       "        text-align: right;\n",
       "    }\n",
       "</style>\n",
       "<table border=\"1\" class=\"dataframe\">\n",
       "  <thead>\n",
       "    <tr style=\"text-align: right;\">\n",
       "      <th></th>\n",
       "      <th>id_</th>\n",
       "      <th>source</th>\n",
       "      <th>email</th>\n",
       "      <th>class</th>\n",
       "    </tr>\n",
       "  </thead>\n",
       "  <tbody>\n",
       "    <tr>\n",
       "      <th>0</th>\n",
       "      <td>5732aa7f-0c44-4a4f-877a-0488aed0d1f7</td>\n",
       "      <td>2</td>\n",
       "      <td>Subject: is the supply rebound beginning ? an ...</td>\n",
       "      <td>not_spam</td>\n",
       "    </tr>\n",
       "    <tr>\n",
       "      <th>1</th>\n",
       "      <td>4d3c392d-a4f0-465d-baa3-2c15f1560f07</td>\n",
       "      <td>2</td>\n",
       "      <td>Subject: email list - 100 million addresses $ ...</td>\n",
       "      <td>spam</td>\n",
       "    </tr>\n",
       "    <tr>\n",
       "      <th>2</th>\n",
       "      <td>d47e95c0-4909-41b8-aec8-a3fb953fa18f</td>\n",
       "      <td>4</td>\n",
       "      <td>Subject: alley dodecahedra suicide\\nare you re...</td>\n",
       "      <td>spam</td>\n",
       "    </tr>\n",
       "    <tr>\n",
       "      <th>3</th>\n",
       "      <td>658a83eb-689c-480a-ae31-d622dc83f9f8</td>\n",
       "      <td>6</td>\n",
       "      <td>Subject: ibuyit project\\ni wanted to share som...</td>\n",
       "      <td>not_spam</td>\n",
       "    </tr>\n",
       "    <tr>\n",
       "      <th>4</th>\n",
       "      <td>179d10b7-1c43-4e10-a0be-18d205b0fe24</td>\n",
       "      <td>4</td>\n",
       "      <td>Subject: cheap vicodin online - us fda pharmac...</td>\n",
       "      <td>spam</td>\n",
       "    </tr>\n",
       "  </tbody>\n",
       "</table>\n",
       "</div>"
      ],
      "text/plain": [
       "                                    id_  source  \\\n",
       "0  5732aa7f-0c44-4a4f-877a-0488aed0d1f7       2   \n",
       "1  4d3c392d-a4f0-465d-baa3-2c15f1560f07       2   \n",
       "2  d47e95c0-4909-41b8-aec8-a3fb953fa18f       4   \n",
       "3  658a83eb-689c-480a-ae31-d622dc83f9f8       6   \n",
       "4  179d10b7-1c43-4e10-a0be-18d205b0fe24       4   \n",
       "\n",
       "                                               email     class  \n",
       "0  Subject: is the supply rebound beginning ? an ...  not_spam  \n",
       "1  Subject: email list - 100 million addresses $ ...      spam  \n",
       "2  Subject: alley dodecahedra suicide\\nare you re...      spam  \n",
       "3  Subject: ibuyit project\\ni wanted to share som...  not_spam  \n",
       "4  Subject: cheap vicodin online - us fda pharmac...      spam  "
      ]
     },
     "execution_count": 4,
     "metadata": {},
     "output_type": "execute_result"
    }
   ],
   "source": [
    "train_data.head()"
   ]
  },
  {
   "cell_type": "markdown",
   "metadata": {},
   "source": [
    "Convert the class into numerical format in a target variable"
   ]
  },
  {
   "cell_type": "code",
   "execution_count": 5,
   "metadata": {},
   "outputs": [
    {
     "data": {
      "text/html": [
       "<div>\n",
       "<style scoped>\n",
       "    .dataframe tbody tr th:only-of-type {\n",
       "        vertical-align: middle;\n",
       "    }\n",
       "\n",
       "    .dataframe tbody tr th {\n",
       "        vertical-align: top;\n",
       "    }\n",
       "\n",
       "    .dataframe thead th {\n",
       "        text-align: right;\n",
       "    }\n",
       "</style>\n",
       "<table border=\"1\" class=\"dataframe\">\n",
       "  <thead>\n",
       "    <tr style=\"text-align: right;\">\n",
       "      <th></th>\n",
       "      <th>id_</th>\n",
       "      <th>source</th>\n",
       "      <th>email</th>\n",
       "      <th>class</th>\n",
       "      <th>target</th>\n",
       "    </tr>\n",
       "  </thead>\n",
       "  <tbody>\n",
       "    <tr>\n",
       "      <th>0</th>\n",
       "      <td>5732aa7f-0c44-4a4f-877a-0488aed0d1f7</td>\n",
       "      <td>2</td>\n",
       "      <td>Subject: is the supply rebound beginning ? an ...</td>\n",
       "      <td>not_spam</td>\n",
       "      <td>0</td>\n",
       "    </tr>\n",
       "    <tr>\n",
       "      <th>1</th>\n",
       "      <td>4d3c392d-a4f0-465d-baa3-2c15f1560f07</td>\n",
       "      <td>2</td>\n",
       "      <td>Subject: email list - 100 million addresses $ ...</td>\n",
       "      <td>spam</td>\n",
       "      <td>1</td>\n",
       "    </tr>\n",
       "    <tr>\n",
       "      <th>2</th>\n",
       "      <td>d47e95c0-4909-41b8-aec8-a3fb953fa18f</td>\n",
       "      <td>4</td>\n",
       "      <td>Subject: alley dodecahedra suicide\\nare you re...</td>\n",
       "      <td>spam</td>\n",
       "      <td>1</td>\n",
       "    </tr>\n",
       "    <tr>\n",
       "      <th>3</th>\n",
       "      <td>658a83eb-689c-480a-ae31-d622dc83f9f8</td>\n",
       "      <td>6</td>\n",
       "      <td>Subject: ibuyit project\\ni wanted to share som...</td>\n",
       "      <td>not_spam</td>\n",
       "      <td>0</td>\n",
       "    </tr>\n",
       "    <tr>\n",
       "      <th>4</th>\n",
       "      <td>179d10b7-1c43-4e10-a0be-18d205b0fe24</td>\n",
       "      <td>4</td>\n",
       "      <td>Subject: cheap vicodin online - us fda pharmac...</td>\n",
       "      <td>spam</td>\n",
       "      <td>1</td>\n",
       "    </tr>\n",
       "  </tbody>\n",
       "</table>\n",
       "</div>"
      ],
      "text/plain": [
       "                                    id_  source  \\\n",
       "0  5732aa7f-0c44-4a4f-877a-0488aed0d1f7       2   \n",
       "1  4d3c392d-a4f0-465d-baa3-2c15f1560f07       2   \n",
       "2  d47e95c0-4909-41b8-aec8-a3fb953fa18f       4   \n",
       "3  658a83eb-689c-480a-ae31-d622dc83f9f8       6   \n",
       "4  179d10b7-1c43-4e10-a0be-18d205b0fe24       4   \n",
       "\n",
       "                                               email     class  target  \n",
       "0  Subject: is the supply rebound beginning ? an ...  not_spam       0  \n",
       "1  Subject: email list - 100 million addresses $ ...      spam       1  \n",
       "2  Subject: alley dodecahedra suicide\\nare you re...      spam       1  \n",
       "3  Subject: ibuyit project\\ni wanted to share som...  not_spam       0  \n",
       "4  Subject: cheap vicodin online - us fda pharmac...      spam       1  "
      ]
     },
     "execution_count": 5,
     "metadata": {},
     "output_type": "execute_result"
    }
   ],
   "source": [
    "df = train_data.copy()\n",
    "\n",
    "encoder = LabelEncoder()\n",
    "\n",
    "# Fit and transform the labels to numeric values\n",
    "df['target'] = encoder.fit_transform(df['class'])\n",
    "df.head()"
   ]
  },
  {
   "cell_type": "markdown",
   "metadata": {},
   "source": [
    "Functions for removing punctuations"
   ]
  },
  {
   "cell_type": "code",
   "execution_count": 6,
   "metadata": {},
   "outputs": [
    {
     "data": {
      "text/plain": [
       "'Subject email list  100 million addresses  79\\njane \\nhere is the information you requested\\nyour email address  webmaster  efi  ie\\ntargeted email address cd  rom\\n100 million  addresses\\nmore than 34 categories such as \\n multi level marketers\\n opportunity seekers\\n telephone area code\\n country  city  state  etc  \\n people running home businesses or interested in home businesses \\n travel  vacations\\n opt  in\\n people interested in investments\\n people or businesses who spent more than  1000 on the web in thelast 2 months\\nand many more\\n contains us  international emails\\n everything on this disk is in text file format and fully exportable \\n the cd is as easy to use as browsing your c drive in explorer \\nhow this amazing directory was compiled \\n virtually every other email directory on the internet was taken and put it through an extensive email verification process thus eliminating all the dead addressess \\n special software spiders through the web searching websites  newsgroups and many other online databases with given keywords like area codes  industries  city names etc   to find millions of fresh new addresses every week \\nthis month only  79  regular price  199 \\ndo not send a reply to this email address  to place an order  read instructions below \\nto order by credit card  visa  mastercard or american express \\n simply complete the order form below and fax it back to  44 3  65 9  0 73 0\\nmake sure that we have your email address so that we can send you a reciept for your transaction \\nto order by mail \\nprint the form below and send it together with a money order payable to ft international for the balance to \\n5863 le s lie st \\nsuite 408\\nt oronto  ont a rio\\ncanada\\nor d e r f or m \\nplease print clearly\\nfull name                                                 \\ncompany name                                              \\nemail address                                             required field\\nshipping address                                               \\ncity                      state  province                 \\nshipping options     5 regular mail  1  2 weeks     12 priority mail  2  4 business days     25 fedex  overnight \\n 79  00 usd  shipping charge          us  total            usd\\n  credit card order   mail order\\ncredit card orders fax this order form back to 1  44 3  6 59  07 3 0 \\ncard                                                     \\nexpiry date               \\ntype of card   visa   mastercard   american express\\nname on card                                              \\nbilling address                                   zip  postal             \\ncity                       state  province                 country              \\ncardholder signature                                       \\nplease note that ft i n t e rn a ti o n al will appear on your statement \\nfor any questions please feel free to call us at 1  4 1 6  2 3 6  89 8 1\\nto be removed from our database please send an email to ftremovals 32663  372  yahoo  com'"
      ]
     },
     "execution_count": 6,
     "metadata": {},
     "output_type": "execute_result"
    }
   ],
   "source": [
    "def remove_punctuation(text):\n",
    "    return text.translate(str.maketrans('', '', string.punctuation))\n",
    "\n",
    "remove_punctuation(df['email'][1])"
   ]
  },
  {
   "cell_type": "markdown",
   "metadata": {},
   "source": [
    "Perform Text Cleaning Function"
   ]
  },
  {
   "cell_type": "code",
   "execution_count": 7,
   "metadata": {},
   "outputs": [
    {
     "data": {
      "text/plain": [
       "'subject email list million address currency jane information requested email address webmaster efi ie targeted email address cd rom million address category multi level marketer opportunity seeker telephone area code country city state etc people running home business interested home business travel vacation opt people interested investment people business spent currency web thelast month many contains u international email everything disk text file format fully exportable cd easy use browsing c drive explorer amazing directory compiled virtually every email directory internet taken put extensive email verification process thus eliminating dead address special software spider web searching website newsgroups many online database given keywords like area code industry city name etc find million fresh new address every week month currency regular price currency send reply email address place order read instruction order credit card visa mastercard american express simply complete order form fax back make sure email address send reciept transaction order mail print form send together money order payable ft international balance le lie st suite oronto ont rio canada e r f please print clearly full name company name email address required field shipping address city state province shipping option currency regular mail week currency priority mail business day currency fedex overnight currency usd shipping charge currency u total currency usd credit card order mail order credit card order fax order form back card expiry date type card visa mastercard american express name card billing address zip postal city state province country cardholder signature please note ft n e rn ti n al appear statement question please feel free call u removed database please send email ftremovals yahoo com'"
      ]
     },
     "execution_count": 7,
     "metadata": {},
     "output_type": "execute_result"
    }
   ],
   "source": [
    "stop_words = set(stopwords.words('english'))\n",
    "lemmatizer = WordNetLemmatizer()\n",
    "currency_symbols = r'[\\$\\£\\€\\¥\\₹\\¢\\₽\\₩\\₪]'\n",
    "\n",
    "def clean_text(text):\n",
    "    text = text.lower()\n",
    "    # Replace all occurrences of currency symbols with the word 'currency'\n",
    "    text = re.sub(currency_symbols, 'currency', text)\n",
    "    text = remove_punctuation(text)\n",
    "    text=re.compile('<.*?>').sub('', text) \n",
    "    text = text.replace('_', '')\n",
    "    text=re.sub(r'[^\\w\\s]', '', str(text).lower().strip())\n",
    "    text = re.sub(r'\\d',' ',text) \n",
    "    text = re.sub(r'\\s+',' ',text) \n",
    "    text = ' '.join(word for word in text.split() if word not in stop_words)\n",
    "    text = ' '.join(lemmatizer.lemmatize(word) for word in text.split())\n",
    "\n",
    "    return text\n",
    "\n",
    "\n",
    "\n",
    "\n",
    "clean_text(df['email'][1])"
   ]
  },
  {
   "cell_type": "markdown",
   "metadata": {},
   "source": [
    "Save the clean text into clean_text feature"
   ]
  },
  {
   "cell_type": "code",
   "execution_count": 8,
   "metadata": {},
   "outputs": [
    {
     "data": {
      "text/html": [
       "<div>\n",
       "<style scoped>\n",
       "    .dataframe tbody tr th:only-of-type {\n",
       "        vertical-align: middle;\n",
       "    }\n",
       "\n",
       "    .dataframe tbody tr th {\n",
       "        vertical-align: top;\n",
       "    }\n",
       "\n",
       "    .dataframe thead th {\n",
       "        text-align: right;\n",
       "    }\n",
       "</style>\n",
       "<table border=\"1\" class=\"dataframe\">\n",
       "  <thead>\n",
       "    <tr style=\"text-align: right;\">\n",
       "      <th></th>\n",
       "      <th>id_</th>\n",
       "      <th>source</th>\n",
       "      <th>email</th>\n",
       "      <th>class</th>\n",
       "      <th>target</th>\n",
       "      <th>clean_text</th>\n",
       "    </tr>\n",
       "  </thead>\n",
       "  <tbody>\n",
       "    <tr>\n",
       "      <th>0</th>\n",
       "      <td>5732aa7f-0c44-4a4f-877a-0488aed0d1f7</td>\n",
       "      <td>2</td>\n",
       "      <td>Subject: is the supply rebound beginning ? an ...</td>\n",
       "      <td>not_spam</td>\n",
       "      <td>0</td>\n",
       "      <td>subject supply rebound beginning update cera o...</td>\n",
       "    </tr>\n",
       "    <tr>\n",
       "      <th>1</th>\n",
       "      <td>4d3c392d-a4f0-465d-baa3-2c15f1560f07</td>\n",
       "      <td>2</td>\n",
       "      <td>Subject: email list - 100 million addresses $ ...</td>\n",
       "      <td>spam</td>\n",
       "      <td>1</td>\n",
       "      <td>subject email list million address currency ja...</td>\n",
       "    </tr>\n",
       "    <tr>\n",
       "      <th>2</th>\n",
       "      <td>d47e95c0-4909-41b8-aec8-a3fb953fa18f</td>\n",
       "      <td>4</td>\n",
       "      <td>Subject: alley dodecahedra suicide\\nare you re...</td>\n",
       "      <td>spam</td>\n",
       "      <td>1</td>\n",
       "      <td>subject alley dodecahedra suicide ready lomse ...</td>\n",
       "    </tr>\n",
       "    <tr>\n",
       "      <th>3</th>\n",
       "      <td>658a83eb-689c-480a-ae31-d622dc83f9f8</td>\n",
       "      <td>6</td>\n",
       "      <td>Subject: ibuyit project\\ni wanted to share som...</td>\n",
       "      <td>not_spam</td>\n",
       "      <td>0</td>\n",
       "      <td>subject ibuyit project wanted share great news...</td>\n",
       "    </tr>\n",
       "    <tr>\n",
       "      <th>4</th>\n",
       "      <td>179d10b7-1c43-4e10-a0be-18d205b0fe24</td>\n",
       "      <td>4</td>\n",
       "      <td>Subject: cheap vicodin online - us fda pharmac...</td>\n",
       "      <td>spam</td>\n",
       "      <td>1</td>\n",
       "      <td>subject cheap vicodin online u fda pharmacy hy...</td>\n",
       "    </tr>\n",
       "  </tbody>\n",
       "</table>\n",
       "</div>"
      ],
      "text/plain": [
       "                                    id_  source  \\\n",
       "0  5732aa7f-0c44-4a4f-877a-0488aed0d1f7       2   \n",
       "1  4d3c392d-a4f0-465d-baa3-2c15f1560f07       2   \n",
       "2  d47e95c0-4909-41b8-aec8-a3fb953fa18f       4   \n",
       "3  658a83eb-689c-480a-ae31-d622dc83f9f8       6   \n",
       "4  179d10b7-1c43-4e10-a0be-18d205b0fe24       4   \n",
       "\n",
       "                                               email     class  target  \\\n",
       "0  Subject: is the supply rebound beginning ? an ...  not_spam       0   \n",
       "1  Subject: email list - 100 million addresses $ ...      spam       1   \n",
       "2  Subject: alley dodecahedra suicide\\nare you re...      spam       1   \n",
       "3  Subject: ibuyit project\\ni wanted to share som...  not_spam       0   \n",
       "4  Subject: cheap vicodin online - us fda pharmac...      spam       1   \n",
       "\n",
       "                                          clean_text  \n",
       "0  subject supply rebound beginning update cera o...  \n",
       "1  subject email list million address currency ja...  \n",
       "2  subject alley dodecahedra suicide ready lomse ...  \n",
       "3  subject ibuyit project wanted share great news...  \n",
       "4  subject cheap vicodin online u fda pharmacy hy...  "
      ]
     },
     "execution_count": 8,
     "metadata": {},
     "output_type": "execute_result"
    }
   ],
   "source": [
    "df['clean_text'] = df['email'].apply(lambda x: clean_text(x))\n",
    "df.head()"
   ]
  },
  {
   "cell_type": "markdown",
   "metadata": {},
   "source": [
    "**Convert the Text into Numerical Vector**\n",
    "\n",
    "Firstly, I have tried to explore the CountVectorizer & TfIdfVectorizer method for converting text into numerical format and Got good performance for the task. If I get bad results, then I thought to try word2vec, doc2vec, others advanced methods. But I get the good result with simple processes."
   ]
  },
  {
   "cell_type": "markdown",
   "metadata": {},
   "source": [
    "**CountVectorizer**"
   ]
  },
  {
   "cell_type": "code",
   "execution_count": 12,
   "metadata": {},
   "outputs": [
    {
     "data": {
      "text/plain": [
       "array(['aa', 'aaa', 'aaron', ..., 'zwallet', 'zyban', 'zzzz'],\n",
       "      dtype=object)"
      ]
     },
     "execution_count": 12,
     "metadata": {},
     "output_type": "execute_result"
    }
   ],
   "source": [
    "vectorizer = CountVectorizer(max_features=10000)\n",
    "X_countvectorizer = vectorizer.fit_transform(df['clean_text'])\n",
    "y_countvectorizer = df['target']\n",
    "vectorizer.get_feature_names_out()"
   ]
  },
  {
   "cell_type": "markdown",
   "metadata": {},
   "source": [
    "**TfIdfVectorizer**"
   ]
  },
  {
   "cell_type": "code",
   "execution_count": 13,
   "metadata": {},
   "outputs": [
    {
     "data": {
      "text/plain": [
       "array(['aa', 'aaa', 'aaron', ..., 'zwallet', 'zyban', 'zzzz'],\n",
       "      dtype=object)"
      ]
     },
     "execution_count": 13,
     "metadata": {},
     "output_type": "execute_result"
    }
   ],
   "source": [
    "vectorizer = TfidfVectorizer(max_features=10000)\n",
    "X_tfidf = vectorizer.fit_transform(df['clean_text'])\n",
    "y_tfidf = df['target']\n",
    "vectorizer.get_feature_names_out()"
   ]
  },
  {
   "cell_type": "markdown",
   "metadata": {},
   "source": [
    "Perform the train split test to validate the result"
   ]
  },
  {
   "cell_type": "code",
   "execution_count": 14,
   "metadata": {},
   "outputs": [],
   "source": [
    "# Split the data into training and testing sets\n",
    "X_train, X_test, y_train, y_test = train_test_split(X_countvectorizer, y_countvectorizer, test_size=0.2, random_state=42)\n",
    "X_train_idf, X_test_idf, y_train_idf, y_test_idf = train_test_split(X_tfidf, y_tfidf, test_size=0.2, random_state=42)"
   ]
  },
  {
   "cell_type": "markdown",
   "metadata": {},
   "source": [
    "**Multinomial Naive Bayes with CountVectorizer**"
   ]
  },
  {
   "cell_type": "code",
   "execution_count": 33,
   "metadata": {},
   "outputs": [
    {
     "name": "stdout",
     "output_type": "stream",
     "text": [
      "Naive Bayes Classification Report:\n",
      "              precision    recall  f1-score   support\n",
      "\n",
      "           0       0.98      0.98      0.98      1403\n",
      "           1       0.98      0.99      0.99      1597\n",
      "\n",
      "    accuracy                           0.98      3000\n",
      "   macro avg       0.98      0.98      0.98      3000\n",
      "weighted avg       0.98      0.98      0.98      3000\n",
      "\n"
     ]
    }
   ],
   "source": [
    "# Initialize the classifier\n",
    "nb_classifier = MultinomialNB()\n",
    "\n",
    "# Train the model\n",
    "nb_classifier.fit(X_train, y_train)\n",
    "\n",
    "# Predict on the test data\n",
    "y_pred_nb = nb_classifier.predict(X_test)\n",
    "\n",
    "# Evaluate the model\n",
    "print(\"Naive Bayes Classification Report:\")\n",
    "print(metrics.classification_report(y_test, y_pred_nb))"
   ]
  },
  {
   "cell_type": "code",
   "execution_count": 34,
   "metadata": {},
   "outputs": [
    {
     "name": "stdout",
     "output_type": "stream",
     "text": [
      "Naive Bayes Accuracy Score: 0.9846666666666667\n",
      "Naive Bayes Confusion Matrix:\n",
      "[[1379   24]\n",
      " [  22 1575]]\n"
     ]
    }
   ],
   "source": [
    "print(\"Naive Bayes Accuracy Score:\", metrics.accuracy_score(y_test, y_pred_nb))\n",
    "print(\"Naive Bayes Confusion Matrix:\")\n",
    "print(confusion_matrix(y_test, y_pred_nb))"
   ]
  },
  {
   "cell_type": "markdown",
   "metadata": {},
   "source": [
    "**Multinomial Naive Bayes with TfIdfVectorizer**"
   ]
  },
  {
   "cell_type": "code",
   "execution_count": 15,
   "metadata": {},
   "outputs": [
    {
     "name": "stdout",
     "output_type": "stream",
     "text": [
      "Naive Bayes Classification Report:\n",
      "              precision    recall  f1-score   support\n",
      "\n",
      "           0       0.99      0.98      0.99      1403\n",
      "           1       0.99      0.99      0.99      1597\n",
      "\n",
      "    accuracy                           0.99      3000\n",
      "   macro avg       0.99      0.99      0.99      3000\n",
      "weighted avg       0.99      0.99      0.99      3000\n",
      "\n"
     ]
    }
   ],
   "source": [
    "# Initialize the classifier\n",
    "nb_classifier = MultinomialNB()\n",
    "\n",
    "# Train the model\n",
    "nb_classifier.fit(X_train_idf, y_train_idf)\n",
    "\n",
    "# Predict on the test data\n",
    "y_pred_nb_idf = nb_classifier.predict(X_test_idf)\n",
    "\n",
    "# Evaluate the model\n",
    "print(\"Naive Bayes Classification Report:\")\n",
    "print(metrics.classification_report(y_test_idf, y_pred_nb_idf))"
   ]
  },
  {
   "cell_type": "code",
   "execution_count": 16,
   "metadata": {},
   "outputs": [
    {
     "name": "stdout",
     "output_type": "stream",
     "text": [
      "Naive Bayes Accuracy Score: 0.9866666666666667\n",
      "Naive Bayes Confusion Matrix:\n",
      "[[1381   22]\n",
      " [  18 1579]]\n"
     ]
    }
   ],
   "source": [
    "print(\"Naive Bayes Accuracy Score:\", metrics.accuracy_score(y_test_idf, y_pred_nb_idf))\n",
    "print(\"Naive Bayes Confusion Matrix:\")\n",
    "print(confusion_matrix(y_test_idf, y_pred_nb_idf))"
   ]
  },
  {
   "cell_type": "markdown",
   "metadata": {},
   "source": [
    "**Logistic Regression with CountVectorizer**"
   ]
  },
  {
   "cell_type": "code",
   "execution_count": 36,
   "metadata": {},
   "outputs": [
    {
     "name": "stdout",
     "output_type": "stream",
     "text": [
      "Logistic Regression Classification Report:\n",
      "              precision    recall  f1-score   support\n",
      "\n",
      "           0       0.99      0.98      0.98      1403\n",
      "           1       0.98      0.99      0.99      1597\n",
      "\n",
      "    accuracy                           0.99      3000\n",
      "   macro avg       0.99      0.98      0.99      3000\n",
      "weighted avg       0.99      0.99      0.99      3000\n",
      "\n",
      "\n",
      "Logistic Regression Accuracy Score: 0.9853333333333333\n",
      "Logistic Regression Confusion Matrix:\n",
      "[[1368   35]\n",
      " [   9 1588]]\n"
     ]
    }
   ],
   "source": [
    "# Initialize the classifier\n",
    "lr_classifier = LogisticRegression()\n",
    "\n",
    "# Train the model\n",
    "lr_classifier.fit(X_train, y_train)\n",
    "\n",
    "# Predict on the test data\n",
    "y_pred_lr = lr_classifier.predict(X_test)\n",
    "\n",
    "# Evaluate the model\n",
    "print(\"Logistic Regression Classification Report:\")\n",
    "print(metrics.classification_report(y_test, y_pred_lr))\n",
    "print(\"\\nLogistic Regression Accuracy Score:\", metrics.accuracy_score(y_test, y_pred_lr))\n",
    "print(\"Logistic Regression Confusion Matrix:\")\n",
    "print(confusion_matrix(y_test, y_pred_lr))"
   ]
  },
  {
   "cell_type": "markdown",
   "metadata": {},
   "source": [
    "**Logistic Regression with TfIdfVectorizer**"
   ]
  },
  {
   "cell_type": "code",
   "execution_count": 17,
   "metadata": {},
   "outputs": [
    {
     "name": "stdout",
     "output_type": "stream",
     "text": [
      "Logistic Regression Classification Report:\n",
      "              precision    recall  f1-score   support\n",
      "\n",
      "           0       1.00      0.97      0.98      1403\n",
      "           1       0.98      1.00      0.99      1597\n",
      "\n",
      "    accuracy                           0.99      3000\n",
      "   macro avg       0.99      0.99      0.99      3000\n",
      "weighted avg       0.99      0.99      0.99      3000\n",
      "\n",
      "\n",
      "Logistic Regression Accuracy Score: 0.986\n",
      "Logistic Regression Confusion Matrix:\n",
      "[[1364   39]\n",
      " [   3 1594]]\n"
     ]
    }
   ],
   "source": [
    "# Initialize the classifier\n",
    "lr_classifier = LogisticRegression()\n",
    "\n",
    "# Train the model\n",
    "lr_classifier.fit(X_train_idf, y_train_idf)\n",
    "\n",
    "# Predict on the test data\n",
    "y_pred_lr_idf = lr_classifier.predict(X_test_idf)\n",
    "\n",
    "# Evaluate the model\n",
    "print(\"Logistic Regression Classification Report:\")\n",
    "print(metrics.classification_report(y_test_idf, y_pred_lr_idf))\n",
    "print(\"\\nLogistic Regression Accuracy Score:\", metrics.accuracy_score(y_test_idf, y_pred_lr_idf))\n",
    "print(\"Logistic Regression Confusion Matrix:\")\n",
    "print(confusion_matrix(y_test_idf, y_pred_lr_idf))"
   ]
  },
  {
   "cell_type": "markdown",
   "metadata": {},
   "source": [
    "**Support Vector Machine with CountVectorizer**"
   ]
  },
  {
   "cell_type": "code",
   "execution_count": 40,
   "metadata": {},
   "outputs": [
    {
     "name": "stdout",
     "output_type": "stream",
     "text": [
      "SVM Classification Report:\n",
      "              precision    recall  f1-score   support\n",
      "\n",
      "           0       0.99      0.90      0.94      1403\n",
      "           1       0.92      0.99      0.95      1597\n",
      "\n",
      "    accuracy                           0.95      3000\n",
      "   macro avg       0.95      0.95      0.95      3000\n",
      "weighted avg       0.95      0.95      0.95      3000\n",
      "\n",
      "\n",
      "Support Vector Machine Accuracy Score: 0.9483333333333334\n",
      "Support Vector Machine Confusion Matrix:\n",
      "[[1264  139]\n",
      " [  16 1581]]\n"
     ]
    }
   ],
   "source": [
    "# Initialize the classifier\n",
    "svm_classifier = LinearSVC()\n",
    "\n",
    "# Train the model\n",
    "svm_classifier.fit(X_train, y_train)\n",
    "\n",
    "# Predict on the test data\n",
    "y_pred_svm = svm_classifier.predict(X_test)\n",
    "\n",
    "# Evaluate the model\n",
    "print(\"SVM Classification Report:\")\n",
    "print(metrics.classification_report(y_test, y_pred_svm))\n",
    "\n",
    "print(\"\\nSupport Vector Machine Accuracy Score:\", metrics.accuracy_score(y_test, y_pred_svm))\n",
    "print(\"Support Vector Machine Confusion Matrix:\")\n",
    "print(confusion_matrix(y_test, y_pred_svm))"
   ]
  },
  {
   "cell_type": "markdown",
   "metadata": {},
   "source": [
    "**GridSearchCV for finding the best model with CountVectorizer**"
   ]
  },
  {
   "cell_type": "code",
   "execution_count": 45,
   "metadata": {},
   "outputs": [],
   "source": [
    "models = [\n",
    "    RandomForestClassifier(n_estimators=200, max_depth=3, random_state=0),\n",
    "    LinearSVC(),\n",
    "    MultinomialNB(),\n",
    "    LogisticRegression(random_state=0),\n",
    "]\n",
    "CV = 5\n",
    "cv_df = pd.DataFrame(index=range(CV * len(models)))\n",
    "entries = []\n",
    "for model in models:\n",
    "  model_name = model.__class__.__name__\n",
    "  accuracies = cross_val_score(model, X_countvectorizer, y_countvectorizer, scoring='accuracy', cv=CV)\n",
    "  for fold_idx, accuracy in enumerate(accuracies):\n",
    "    entries.append((model_name, fold_idx, accuracy))\n",
    "cv_df = pd.DataFrame(entries, columns=['model_name', 'fold_idx', 'accuracy'])\n"
   ]
  },
  {
   "cell_type": "code",
   "execution_count": 46,
   "metadata": {},
   "outputs": [
    {
     "data": {
      "image/png": "[encoded data removed]",
      "text/plain": [
       "<Figure size 640x480 with 1 Axes>"
      ]
     },
     "metadata": {},
     "output_type": "display_data"
    }
   ],
   "source": [
    "sns.boxplot(x='model_name', y='accuracy', data=cv_df)\n",
    "sns.stripplot(x='model_name', y='accuracy', data=cv_df, \n",
    "              size=8, jitter=True, linewidth=2)\n",
    "plt.show()"
   ]
  },
  {
   "cell_type": "markdown",
   "metadata": {},
   "source": [
    "With CountVectorizer, Logistic Regression model performs better than other models."
   ]
  },
  {
   "cell_type": "code",
   "execution_count": 47,
   "metadata": {},
   "outputs": [
    {
     "name": "stdout",
     "output_type": "stream",
     "text": [
      "                model_name  fold_idx  accuracy\n",
      "0   RandomForestClassifier         0  0.786000\n",
      "1   RandomForestClassifier         1  0.788667\n",
      "2   RandomForestClassifier         2  0.780667\n",
      "3   RandomForestClassifier         3  0.776667\n",
      "4   RandomForestClassifier         4  0.785333\n",
      "5                LinearSVC         0  0.977333\n",
      "6                LinearSVC         1  0.979333\n",
      "7                LinearSVC         2  0.977667\n",
      "8                LinearSVC         3  0.979333\n",
      "9                LinearSVC         4  0.982333\n",
      "10           MultinomialNB         0  0.982667\n",
      "11           MultinomialNB         1  0.983333\n",
      "12           MultinomialNB         2  0.985667\n",
      "13           MultinomialNB         3  0.980333\n",
      "14           MultinomialNB         4  0.986667\n",
      "15      LogisticRegression         0  0.983667\n",
      "16      LogisticRegression         1  0.984667\n",
      "17      LogisticRegression         2  0.983333\n",
      "18      LogisticRegression         3  0.987333\n",
      "19      LogisticRegression         4  0.988667\n",
      "\n",
      "\n",
      "\n",
      "model_name\n",
      "LinearSVC                 0.979200\n",
      "LogisticRegression        0.985533\n",
      "MultinomialNB             0.983733\n",
      "RandomForestClassifier    0.783467\n",
      "Name: accuracy, dtype: float64\n"
     ]
    }
   ],
   "source": [
    "print(cv_df)\n",
    "print(\"\\n\\n\")\n",
    "print(cv_df.groupby('model_name').accuracy.mean())"
   ]
  },
  {
   "cell_type": "markdown",
   "metadata": {},
   "source": [
    "**GridSearchCV hyperparameter with TfIdfVectorizer**\n",
    "\n",
    "Here Linear Support Vector Machine performs better than all other models."
   ]
  },
  {
   "cell_type": "code",
   "execution_count": 18,
   "metadata": {},
   "outputs": [
    {
     "name": "stdout",
     "output_type": "stream",
     "text": [
      "                model_name  fold_idx  accuracy\n",
      "0   RandomForestClassifier         0  0.781000\n",
      "1   RandomForestClassifier         1  0.788667\n",
      "2   RandomForestClassifier         2  0.786667\n",
      "3   RandomForestClassifier         3  0.778000\n",
      "4   RandomForestClassifier         4  0.785667\n",
      "5                LinearSVC         0  0.988667\n",
      "6                LinearSVC         1  0.990000\n",
      "7                LinearSVC         2  0.989000\n",
      "8                LinearSVC         3  0.992667\n",
      "9                LinearSVC         4  0.991667\n",
      "10           MultinomialNB         0  0.987667\n",
      "11           MultinomialNB         1  0.986000\n",
      "12           MultinomialNB         2  0.987333\n",
      "13           MultinomialNB         3  0.985333\n",
      "14           MultinomialNB         4  0.989333\n",
      "15      LogisticRegression         0  0.986000\n",
      "16      LogisticRegression         1  0.985333\n",
      "17      LogisticRegression         2  0.983000\n",
      "18      LogisticRegression         3  0.988000\n",
      "19      LogisticRegression         4  0.985000\n"
     ]
    }
   ],
   "source": [
    "models = [\n",
    "    RandomForestClassifier(n_estimators=200, max_depth=3, random_state=0),\n",
    "    LinearSVC(),\n",
    "    MultinomialNB(),\n",
    "    LogisticRegression(random_state=0),\n",
    "]\n",
    "CV = 5\n",
    "cv_df = pd.DataFrame(index=range(CV * len(models)))\n",
    "entries = []\n",
    "for model in models:\n",
    "  model_name = model.__class__.__name__\n",
    "  accuracies = cross_val_score(model, X_tfidf, y_tfidf, scoring='accuracy', cv=CV)\n",
    "  for fold_idx, accuracy in enumerate(accuracies):\n",
    "    entries.append((model_name, fold_idx, accuracy))\n",
    "cv_df = pd.DataFrame(entries, columns=['model_name', 'fold_idx', 'accuracy'])\n",
    "print(cv_df)"
   ]
  },
  {
   "cell_type": "code",
   "execution_count": 19,
   "metadata": {},
   "outputs": [
    {
     "data": {
      "image/png": "[encoded data removed]",
      "text/plain": [
       "<Figure size 640x480 with 1 Axes>"
      ]
     },
     "metadata": {},
     "output_type": "display_data"
    }
   ],
   "source": [
    "sns.boxplot(x='model_name', y='accuracy', data=cv_df)\n",
    "sns.stripplot(x='model_name', y='accuracy', data=cv_df, \n",
    "              size=8, jitter=True, linewidth=2)\n",
    "plt.show()"
   ]
  },
  {
   "cell_type": "code",
   "execution_count": 20,
   "metadata": {},
   "outputs": [
    {
     "name": "stdout",
     "output_type": "stream",
     "text": [
      "model_name\n",
      "LinearSVC                 0.990400\n",
      "LogisticRegression        0.985467\n",
      "MultinomialNB             0.987133\n",
      "RandomForestClassifier    0.784000\n",
      "Name: accuracy, dtype: float64\n"
     ]
    }
   ],
   "source": [
    "print(cv_df.groupby('model_name').accuracy.mean())"
   ]
  },
  {
   "cell_type": "markdown",
   "metadata": {},
   "source": [
    "Trying the best hyperparameter for the Linear Support Vector Machine."
   ]
  },
  {
   "cell_type": "code",
   "execution_count": 21,
   "metadata": {},
   "outputs": [
    {
     "name": "stderr",
     "output_type": "stream",
     "text": [
      "c:\\Users\\abdullah\\projects\\Online Test\\mPowerOnlineTest\\venv\\Lib\\site-packages\\sklearn\\svm\\_base.py:1235: ConvergenceWarning: Liblinear failed to converge, increase the number of iterations.\n",
      "  warnings.warn(\n"
     ]
    },
    {
     "name": "stdout",
     "output_type": "stream",
     "text": [
      "Best Parameters:  {'C': 1, 'max_iter': 1000, 'tol': 0.0001}\n",
      "Best Score:  0.9904\n"
     ]
    }
   ],
   "source": [
    "from sklearn.model_selection import GridSearchCV\n",
    "\n",
    "param_grid = {\n",
    "    'C': [0.01, 0.1, 1, 10, 100],\n",
    "    'tol': [1e-4, 1e-5, 1e-6],\n",
    "    'max_iter': [1000, 5000, 10000]\n",
    "}\n",
    "\n",
    "grid_search = GridSearchCV(LinearSVC(dual='auto', random_state=42), param_grid, cv=5)\n",
    "grid_search.fit(X_tfidf, y_tfidf)\n",
    "\n",
    "print(\"Best Parameters: \", grid_search.best_params_)\n",
    "print(\"Best Score: \", grid_search.best_score_)"
   ]
  },
  {
   "cell_type": "code",
   "execution_count": null,
   "metadata": {},
   "outputs": [],
   "source": []
  }
 ],
 "metadata": {
  "kernelspec": {
   "display_name": "venv",
   "language": "python",
   "name": "python3"
  },
  "language_info": {
   "codemirror_mode": {
    "name": "ipython",
    "version": 3
   },
   "file_extension": ".py",
   "mimetype": "text/x-python",
   "name": "python",
   "nbconvert_exporter": "python",
   "pygments_lexer": "ipython3",
   "version": "3.12.3"
  }
 },
 "nbformat": 4,
 "nbformat_minor": 2
}
